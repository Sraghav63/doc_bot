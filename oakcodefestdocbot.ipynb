{
  "nbformat": 4,
  "nbformat_minor": 0,
  "metadata": {
    "colab": {
      "name": "oakcodefestdocbot.ipynb",
      "provenance": []
    },
    "kernelspec": {
      "name": "python3",
      "display_name": "Python 3"
    },
    "language_info": {
      "name": "python"
    }
  },
  "cells": [
    {
      "cell_type": "markdown",
      "source": [
        ""
      ],
      "metadata": {
        "id": "4BhRNHQxqbKm"
      }
    },
    {
      "cell_type": "code",
      "execution_count": null,
      "metadata": {
        "id": "9t_qtk2rptQv"
      },
      "outputs": [],
      "source": [
        "\n",
        "!wget  https://anaconda.org/pytorch/faiss-cpu/1.2.1/download/linux-64/faiss-cpu-1.2.1-py36_cuda9.0.176_1.tar.bz2\n",
        "\n",
        "!tar xvjf faiss-cpu-1.2.1-py36_cuda9.0.176_1.tar.bz2\n",
        "!cp -r lib/python3.6/site-packages/* /usr/local/lib/python3.6/dist-packages/\n",
        "!pip install mkl\n",
        "\n",
        "%tensorflow_version 2.x\n",
        "\n",
        "!pip install tensorflow-gpu==2.0\n",
        "import tensorflow as tf\n",
        "!pip install pyarrow\n"
      ]
    },
    {
      "cell_type": "code",
      "source": [
        "!apt install libomp-dev"
      ],
      "metadata": {
        "id": "f4OU0LQJpvuT"
      },
      "execution_count": null,
      "outputs": []
    },
    {
      "cell_type": "code",
      "source": [
        "from google.colab import drive\n",
        "drive.mount('/content/drive')"
      ],
      "metadata": {
        "id": "tNWhii83pxeA"
      },
      "execution_count": null,
      "outputs": []
    },
    {
      "cell_type": "code",
      "source": [
        "!pwd; ls"
      ],
      "metadata": {
        "id": "h4VxwusWpywe"
      },
      "execution_count": null,
      "outputs": []
    },
    {
      "cell_type": "code",
      "source": [
        "#!cp BioBert.tar.gz \"drive/MyDrive/Colab Notebooks/\"\n",
        "#!cp DataAndCheckpoint.zip \"drive/MyDrive/Colab Notebooks/\"\n"
      ],
      "metadata": {
        "id": "eKhaFN5opzq3"
      },
      "execution_count": null,
      "outputs": []
    },
    {
      "cell_type": "code",
      "source": [
        "!pip install \"drive/MyDrive/Colab Notebooks/docproduct.zip\""
      ],
      "metadata": {
        "id": "g_qIeZqjp095"
      },
      "execution_count": null,
      "outputs": []
    },
    {
      "cell_type": "code",
      "source": [
        "#!pip cache purge"
      ],
      "metadata": {
        "id": "Up40ABJqp2uG"
      },
      "execution_count": null,
      "outputs": []
    },
    {
      "cell_type": "code",
      "source": [
        "!pip install \"drive/MyDrive/Colab Notebooks/gpt2_estimator.zip\""
      ],
      "metadata": {
        "id": "OG3QVMXCqAL8"
      },
      "execution_count": null,
      "outputs": []
    },
    {
      "cell_type": "code",
      "source": [
        "#!rm DataAndCheckpoint.zip"
      ],
      "metadata": {
        "id": "li_qch1UqCHX"
      },
      "execution_count": null,
      "outputs": []
    },
    {
      "cell_type": "code",
      "source": [
        "#@title Downaload all model checkpoints, and question/answer data. \n",
        "\n",
        "def download_file_from_google_drive(id, destination):\n",
        "    URL = \"https://docs.google.com/uc?export=download\"\n",
        "\n",
        "    session = requests.Session()\n",
        "\n",
        "    response = session.get(URL, params = { 'id' : id }, stream = True)\n",
        "    token = get_confirm_token(response)\n",
        "\n",
        "    if token:\n",
        "        params = { 'id' : id, 'confirm' : token }\n",
        "        response = session.get(URL, params = params, stream = True)\n",
        "\n",
        "    save_response_content(response, destination)    \n",
        "\n",
        "def get_confirm_token(response):\n",
        "    for key, value in response.cookies.items():\n",
        "        if key.startswith('download_warning'):\n",
        "            return value\n",
        "\n",
        "    return None\n",
        "\n",
        "def save_response_content(response, destination):\n",
        "    CHUNK_SIZE = 32768\n",
        "\n",
        "    with open(destination, \"wb\") as f:\n",
        "        for chunk in response.iter_content(CHUNK_SIZE):\n",
        "            if chunk: # filter out keep-alive new chunks\n",
        "                f.write(chunk)\n",
        "                \n",
        "import os\n",
        "import requests\n",
        "\n",
        "import urllib.request\n",
        "import shutil\n",
        "\n",
        "if not os.path.exists('BioBert.tar.gz'):  \n",
        "  if os.path.exists('drive/MyDrive/Colab Notebooks/BioBert.tar.gz'):\n",
        "    shutil.copy('drive/MyDrive/Colab Notebooks/BioBert.tar.gz','.')\n",
        "  else:\n",
        "    # Download the file from `url` and save it locally under `file_name`:\n",
        "    urllib.request.urlretrieve('https://github.com/naver/biobert-pretrained/releases/download/v1.0-pubmed-pmc/biobert_v1.0_pubmed_pmc.tar.gz', 'BioBert.tar.gz')\n",
        "    !cp BioBert.tar.gz \"drive/MyDrive/Colab Notebooks/\"\n",
        "  \n",
        "if not os.path.exists('BioBertFolder'):\n",
        "    os.makedirs('BioBertFolder')\n",
        "    \n",
        "import tarfile\n",
        "tar = tarfile.open(\"BioBert.tar.gz\")\n",
        "tar.extractall(path='BioBertFolder/')\n",
        "tar.close()\n",
        "\n",
        "file_id = '1uCXv6mQkFfpw5txGnVCsl93Db7t5Z2mp'\n",
        "download_file_from_google_drive(file_id, 'Float16EmbeddingsExpanded5-27-19.pkl')\n",
        "\n",
        "if not os.path.exists('DataAndCheckpoint.zip'):\n",
        "  if os.path.exists('drive/MyDrive/Colab Notebooks/DataAndCheckpoint.zip'):\n",
        "    shutil.copy('drive/MyDrive/Colab Notebooks/DataAndCheckpoint.zip','.')\n",
        "  else:\n",
        "    file_id = 'https://onedrive.live.com/download?cid=9DEDF3C1E2D7E77F&resid=9DEDF3C1E2D7E77F%2132792&authkey=AEQ8GtkcDbe3K98'\n",
        "    urllib.request.urlretrieve( file_id, 'DataAndCheckpoint.zip')\n",
        "    !cp DataAndCheckpoint.zip \"drive/MyDrive/Colab Notebooks/\"\n",
        "\n",
        "\n",
        "if not os.path.exists('newFolder'):\n",
        "    os.makedirs('newFolder')\n",
        "\n",
        "import zipfile\n",
        "zip_ref = zipfile.ZipFile('DataAndCheckpoint.zip', 'r')\n",
        "zip_ref.extractall('newFolder')\n",
        "zip_ref.close()"
      ],
      "metadata": {
        "id": "gG9YkgWGqAQ4"
      },
      "execution_count": null,
      "outputs": []
    },
    {
      "cell_type": "code",
      "source": [
        "#@title Load model weights and Q&A data. Double click to see code\n",
        "\n",
        "from docproduct.predictor import RetreiveQADoc\n",
        "\n",
        "pretrained_path = 'BioBertFolder/biobert_v1.0_pubmed_pmc/'\n",
        "# ffn_weight_file = None\n",
        "bert_ffn_weight_file = 'newFolder/models/bertffn_crossentropy/bertffn'\n",
        "embedding_file = 'Float16EmbeddingsExpanded5-27-19.pkl'\n",
        "\n",
        "doc = RetreiveQADoc(pretrained_path=pretrained_path,\n",
        "ffn_weight_file=None,\n",
        "bert_ffn_weight_file=bert_ffn_weight_file,\n",
        "embedding_file=embedding_file)"
      ],
      "metadata": {
        "id": "WP4E-MD-qEjn"
      },
      "execution_count": null,
      "outputs": []
    },
    {
      "cell_type": "code",
      "source": [
        "while True:\n",
        "  print('Enter Question: ')\n",
        "  question_text = input()\n",
        "  if len(question_text) <= 1:\n",
        "    print('Quitting.. Bye.')\n",
        "    break \n",
        "  search_similarity_by = 'answer'  #@param ['answer', \"question\"]\n",
        "  number_results_toReturn=1 #@param {type:\"number\"}\n",
        "  answer_only=True #@param [\"False\", \"True\"] {type:\"raw\"}\n",
        "  returned_results = doc.predict( question_text ,\n",
        "                  search_by=search_similarity_by, topk=number_results_toReturn, answer_only=answer_only)\n",
        "  print('')\n",
        "  for jk in range(len(returned_results)):\n",
        "      print(\"Result \", jk+1)\n",
        "      print(returned_results[jk])\n",
        "      print('')"
      ],
      "metadata": {
        "id": "ZfcS92vfqHF0"
      },
      "execution_count": null,
      "outputs": []
    },
    {
      "cell_type": "code",
      "source": [
        "!pip install flask_ngrok"
      ],
      "metadata": {
        "id": "0D_LyDJoqItR"
      },
      "execution_count": null,
      "outputs": []
    },
    {
      "cell_type": "code",
      "source": [
        "# !pwd; ls; chmod +777 ngrok"
      ],
      "metadata": {
        "id": "2tSC7DgOqKFW"
      },
      "execution_count": null,
      "outputs": []
    },
    {
      "cell_type": "code",
      "source": [
        "# !./ngrok authtoken 23vZ4puLfclclQ5f5wSzfJ4c0eS_65exTsXLh7GaYWDQGuktV"
      ],
      "metadata": {
        "id": "RvU9g4zLqK7E"
      },
      "execution_count": null,
      "outputs": []
    },
    {
      "cell_type": "code",
      "source": [
        "!npm install -g localtunnel\n"
      ],
      "metadata": {
        "id": "CObSD-98qK9Z"
      },
      "execution_count": null,
      "outputs": []
    },
    {
      "cell_type": "code",
      "source": [
        "!nohup lt --port 5000 -s aidoc &"
      ],
      "metadata": {
        "id": "In6aJBnfqNA6"
      },
      "execution_count": null,
      "outputs": []
    },
    {
      "cell_type": "code",
      "source": [
        "!ps aux"
      ],
      "metadata": {
        "id": "hTB8SK-7qOCV"
      },
      "execution_count": null,
      "outputs": []
    },
    {
      "cell_type": "code",
      "source": [
        "from flask_ngrok import run_with_ngrok\n",
        "from flask import Flask \n",
        "from flask import request\n",
        "app = Flask(__name__)\n",
        "\n",
        "@app.route(\"/\")\n",
        "def home():\n",
        "    return \"<h1>This is medical assistant, please tell your symptoms..</h1>\"\n",
        "\n",
        "@app.route(\"/medicaladvice\", methods=['GET', 'POST'])\n",
        "def medicaladvice():\n",
        "  question = request.args.get(\"question\")\n",
        "  print('Question: ', question)\n",
        "  if question is None and request.content_type == 'application/json':\n",
        "    question = request.json.get(\"question\")\n",
        "    if question is None:\n",
        "      return 'Empty question!!'\n",
        "    print('Question from json data:', question)\n",
        "  elif not isinstance(question, str):\n",
        "      return 'Could not find question in request'\n",
        "\n",
        "  search_similarity_by = 'answer'  #@param ['answer', \"question\"]\n",
        "  number_results_toReturn = 1\n",
        "  answer_only=True #@param [\"False\", \"True\"] {type:\"raw\"}\n",
        "  returned_results = doc.predict(question ,\n",
        "                  search_by=search_similarity_by, \n",
        "                  topk=number_results_toReturn, \n",
        "                  answer_only=answer_only)\n",
        "  print (\"Answer: \", returned_results[0])\n",
        "  return returned_results[0]\n",
        "\n",
        "app.run()"
      ],
      "metadata": {
        "id": "CMq85FKWqPE3"
      },
      "execution_count": null,
      "outputs": []
    },
    {
      "cell_type": "code",
      "source": [
        ""
      ],
      "metadata": {
        "id": "Fm7ygjH0qQjY"
      },
      "execution_count": null,
      "outputs": []
    }
  ]
}